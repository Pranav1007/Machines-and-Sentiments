{
 "cells": [
  {
   "cell_type": "code",
   "execution_count": 2,
   "metadata": {},
   "outputs": [],
   "source": [
    "import numpy as np\n",
    "import pandas as pd\n",
    "\n",
    "import unicodedata, re, string\n",
    "import nltk\n",
    "\n",
    "import seaborn as sns\n",
    "sns.set(color_codes=True)\n",
    "\n",
    "import matplotlib.pyplot as plt\n",
    "import os\n"
   ]
  },
  {
   "cell_type": "code",
   "execution_count": 3,
   "metadata": {},
   "outputs": [],
   "source": [
    "df = pd.read_csv(\"opinions.tsv\", sep=\"\\t\")\n"
   ]
  },
  {
   "cell_type": "code",
   "execution_count": 4,
   "metadata": {},
   "outputs": [
    {
     "name": "stdout",
     "output_type": "stream",
     "text": [
      "<class 'pandas.core.frame.DataFrame'>\n",
      "RangeIndex: 6917 entries, 0 to 6916\n",
      "Data columns (total 2 columns):\n",
      " #   Column                                   Non-Null Count  Dtype \n",
      "---  ------                                   --------------  ----- \n",
      " 0   1                                        6917 non-null   int64 \n",
      " 1   The Da Vinci Code book is just awesome.  6917 non-null   object\n",
      "dtypes: int64(1), object(1)\n",
      "memory usage: 108.2+ KB\n"
     ]
    }
   ],
   "source": [
    "df.info()"
   ]
  },
  {
   "cell_type": "code",
   "execution_count": 5,
   "metadata": {},
   "outputs": [
    {
     "data": {
      "text/html": [
       "<div>\n",
       "<style scoped>\n",
       "    .dataframe tbody tr th:only-of-type {\n",
       "        vertical-align: middle;\n",
       "    }\n",
       "\n",
       "    .dataframe tbody tr th {\n",
       "        vertical-align: top;\n",
       "    }\n",
       "\n",
       "    .dataframe thead th {\n",
       "        text-align: right;\n",
       "    }\n",
       "</style>\n",
       "<table border=\"1\" class=\"dataframe\">\n",
       "  <thead>\n",
       "    <tr style=\"text-align: right;\">\n",
       "      <th></th>\n",
       "      <th>1</th>\n",
       "    </tr>\n",
       "  </thead>\n",
       "  <tbody>\n",
       "    <tr>\n",
       "      <th>count</th>\n",
       "      <td>6917.000000</td>\n",
       "    </tr>\n",
       "    <tr>\n",
       "      <th>mean</th>\n",
       "      <td>0.569900</td>\n",
       "    </tr>\n",
       "    <tr>\n",
       "      <th>std</th>\n",
       "      <td>0.495126</td>\n",
       "    </tr>\n",
       "    <tr>\n",
       "      <th>min</th>\n",
       "      <td>0.000000</td>\n",
       "    </tr>\n",
       "    <tr>\n",
       "      <th>25%</th>\n",
       "      <td>0.000000</td>\n",
       "    </tr>\n",
       "    <tr>\n",
       "      <th>50%</th>\n",
       "      <td>1.000000</td>\n",
       "    </tr>\n",
       "    <tr>\n",
       "      <th>75%</th>\n",
       "      <td>1.000000</td>\n",
       "    </tr>\n",
       "    <tr>\n",
       "      <th>max</th>\n",
       "      <td>1.000000</td>\n",
       "    </tr>\n",
       "  </tbody>\n",
       "</table>\n",
       "</div>"
      ],
      "text/plain": [
       "                 1\n",
       "count  6917.000000\n",
       "mean      0.569900\n",
       "std       0.495126\n",
       "min       0.000000\n",
       "25%       0.000000\n",
       "50%       1.000000\n",
       "75%       1.000000\n",
       "max       1.000000"
      ]
     },
     "execution_count": 5,
     "metadata": {},
     "output_type": "execute_result"
    }
   ],
   "source": [
    "df.describe()"
   ]
  },
  {
   "cell_type": "code",
   "execution_count": 6,
   "metadata": {},
   "outputs": [
    {
     "data": {
      "text/html": [
       "<div>\n",
       "<style scoped>\n",
       "    .dataframe tbody tr th:only-of-type {\n",
       "        vertical-align: middle;\n",
       "    }\n",
       "\n",
       "    .dataframe tbody tr th {\n",
       "        vertical-align: top;\n",
       "    }\n",
       "\n",
       "    .dataframe thead th {\n",
       "        text-align: right;\n",
       "    }\n",
       "</style>\n",
       "<table border=\"1\" class=\"dataframe\">\n",
       "  <thead>\n",
       "    <tr style=\"text-align: right;\">\n",
       "      <th></th>\n",
       "      <th>1</th>\n",
       "      <th>The Da Vinci Code book is just awesome.</th>\n",
       "    </tr>\n",
       "  </thead>\n",
       "  <tbody>\n",
       "    <tr>\n",
       "      <th>0</th>\n",
       "      <td>1</td>\n",
       "      <td>this was the first clive cussler i've ever rea...</td>\n",
       "    </tr>\n",
       "    <tr>\n",
       "      <th>1</th>\n",
       "      <td>1</td>\n",
       "      <td>i liked the Da Vinci Code a lot.</td>\n",
       "    </tr>\n",
       "    <tr>\n",
       "      <th>2</th>\n",
       "      <td>1</td>\n",
       "      <td>i liked the Da Vinci Code a lot.</td>\n",
       "    </tr>\n",
       "    <tr>\n",
       "      <th>3</th>\n",
       "      <td>1</td>\n",
       "      <td>I liked the Da Vinci Code but it ultimatly did...</td>\n",
       "    </tr>\n",
       "    <tr>\n",
       "      <th>4</th>\n",
       "      <td>1</td>\n",
       "      <td>that's not even an exaggeration ) and at midni...</td>\n",
       "    </tr>\n",
       "  </tbody>\n",
       "</table>\n",
       "</div>"
      ],
      "text/plain": [
       "   1            The Da Vinci Code book is just awesome.\n",
       "0  1  this was the first clive cussler i've ever rea...\n",
       "1  1                   i liked the Da Vinci Code a lot.\n",
       "2  1                   i liked the Da Vinci Code a lot.\n",
       "3  1  I liked the Da Vinci Code but it ultimatly did...\n",
       "4  1  that's not even an exaggeration ) and at midni..."
      ]
     },
     "execution_count": 6,
     "metadata": {},
     "output_type": "execute_result"
    }
   ],
   "source": [
    "df.head()"
   ]
  },
  {
   "cell_type": "code",
   "execution_count": 7,
   "metadata": {},
   "outputs": [
    {
     "data": {
      "text/plain": [
       "<matplotlib.axes._subplots.AxesSubplot at 0x24d92c96c88>"
      ]
     },
     "execution_count": 7,
     "metadata": {},
     "output_type": "execute_result"
    },
    {
     "data": {
      "image/png": "[encoded data removed]",
      "text/plain": [
       "<Figure size 432x288 with 1 Axes>"
      ]
     },
     "metadata": {},
     "output_type": "display_data"
    }
   ],
   "source": [
    "sns.heatmap(df.isnull(), yticklabels = False, cbar = False, cmap = 'viridis')"
   ]
  },
  {
   "cell_type": "code",
   "execution_count": 8,
   "metadata": {},
   "outputs": [],
   "source": [
    "df = df.rename(columns = {'1':'Rating', 'The Da Vinci Code book is just awesome.' : 'Phrases'})"
   ]
  },
  {
   "cell_type": "code",
   "execution_count": 9,
   "metadata": {},
   "outputs": [
    {
     "data": {
      "text/html": [
       "<div>\n",
       "<style scoped>\n",
       "    .dataframe tbody tr th:only-of-type {\n",
       "        vertical-align: middle;\n",
       "    }\n",
       "\n",
       "    .dataframe tbody tr th {\n",
       "        vertical-align: top;\n",
       "    }\n",
       "\n",
       "    .dataframe thead th {\n",
       "        text-align: right;\n",
       "    }\n",
       "</style>\n",
       "<table border=\"1\" class=\"dataframe\">\n",
       "  <thead>\n",
       "    <tr style=\"text-align: right;\">\n",
       "      <th></th>\n",
       "      <th>Rating</th>\n",
       "      <th>Phrases</th>\n",
       "    </tr>\n",
       "  </thead>\n",
       "  <tbody>\n",
       "    <tr>\n",
       "      <th>0</th>\n",
       "      <td>1</td>\n",
       "      <td>this was the first clive cussler i've ever rea...</td>\n",
       "    </tr>\n",
       "    <tr>\n",
       "      <th>1</th>\n",
       "      <td>1</td>\n",
       "      <td>i liked the Da Vinci Code a lot.</td>\n",
       "    </tr>\n",
       "    <tr>\n",
       "      <th>2</th>\n",
       "      <td>1</td>\n",
       "      <td>i liked the Da Vinci Code a lot.</td>\n",
       "    </tr>\n",
       "    <tr>\n",
       "      <th>3</th>\n",
       "      <td>1</td>\n",
       "      <td>I liked the Da Vinci Code but it ultimatly did...</td>\n",
       "    </tr>\n",
       "    <tr>\n",
       "      <th>4</th>\n",
       "      <td>1</td>\n",
       "      <td>that's not even an exaggeration ) and at midni...</td>\n",
       "    </tr>\n",
       "  </tbody>\n",
       "</table>\n",
       "</div>"
      ],
      "text/plain": [
       "   Rating                                            Phrases\n",
       "0       1  this was the first clive cussler i've ever rea...\n",
       "1       1                   i liked the Da Vinci Code a lot.\n",
       "2       1                   i liked the Da Vinci Code a lot.\n",
       "3       1  I liked the Da Vinci Code but it ultimatly did...\n",
       "4       1  that's not even an exaggeration ) and at midni..."
      ]
     },
     "execution_count": 9,
     "metadata": {},
     "output_type": "execute_result"
    }
   ],
   "source": [
    "df.head()"
   ]
  },
  {
   "cell_type": "code",
   "execution_count": 10,
   "metadata": {},
   "outputs": [
    {
     "data": {
      "text/plain": [
       "<matplotlib.axes._subplots.AxesSubplot at 0x24d93491508>"
      ]
     },
     "execution_count": 10,
     "metadata": {},
     "output_type": "execute_result"
    },
    {
     "data": {
      "image/png": "[encoded data removed]",
      "text/plain": [
       "<Figure size 432x288 with 1 Axes>"
      ]
     },
     "metadata": {},
     "output_type": "display_data"
    }
   ],
   "source": [
    "sns.countplot(x=\"Rating\", data = df)"
   ]
  },
  {
   "cell_type": "code",
   "execution_count": 11,
   "metadata": {},
   "outputs": [
    {
     "data": {
      "text/plain": [
       "<matplotlib.axes._subplots.AxesSubplot at 0x24d934de388>"
      ]
     },
     "execution_count": 11,
     "metadata": {},
     "output_type": "execute_result"
    },
    {
     "data": {
      "image/png": "[encoded data removed]",
      "text/plain": [
       "<Figure size 432x288 with 1 Axes>"
      ]
     },
     "metadata": {},
     "output_type": "display_data"
    }
   ],
   "source": [
    "sns.distplot(df['Rating'])"
   ]
  },
  {
   "cell_type": "code",
   "execution_count": 12,
   "metadata": {},
   "outputs": [
    {
     "name": "stdout",
     "output_type": "stream",
     "text": [
      "(6917, 2)\n"
     ]
    }
   ],
   "source": [
    "print(df.shape)"
   ]
  },
  {
   "cell_type": "code",
   "execution_count": 13,
   "metadata": {},
   "outputs": [],
   "source": [
    "def remove_non_ascii(words):\n",
    "    \"\"\"Remove non-ASCII characters from list of tokenized words\"\"\"\n",
    "    new_words = []\n",
    "    for word in words:\n",
    "        new_word = unicodedata.normalize('NFKD', word).encode('ascii', 'ignore').decode('utf-8', 'ignore')\n",
    "        new_words.append(new_word)\n",
    "    return new_words\n",
    "\n",
    "def to_lowercase(words):\n",
    "    \"\"\"Convert all characters to lowercase from list of tokenized words\"\"\"\n",
    "    new_words = []\n",
    "    for word in words:\n",
    "        new_word = word.lower()\n",
    "        new_words.append(new_word)\n",
    "    return new_words\n",
    "\n",
    "def remove_punctuation(words):\n",
    "    \"\"\"Remove punctuation from list of tokenized words\"\"\"\n",
    "    new_words = []\n",
    "    for word in words:\n",
    "        new_word = re.sub(r'[^\\w\\s]', '', word)\n",
    "        if new_word != '':\n",
    "            new_words.append(new_word)\n",
    "    return new_words\n",
    "\n",
    "def remove_numbers(words):\n",
    "    \"\"\"Remove all interger occurrences in list of tokenized words with textual representation\"\"\"\n",
    "    new_words = []\n",
    "    for word in words:\n",
    "        new_word = re.sub(\"\\d+\", \"\", word)\n",
    "        if new_word != '':\n",
    "            new_words.append(new_word)\n",
    "    return new_words\n",
    "\n",
    "def remove_stopwords(words):\n",
    "    \"\"\"Remove stop words from list of tokenized words\"\"\"\n",
    "    new_words = []\n",
    "    for word in words:\n",
    "        if word not in stopwords.words('english'):\n",
    "            new_words.append(word)\n",
    "    return new_words\n",
    "\n",
    "def stem_words(words):\n",
    "    \"\"\"Stem words in list of tokenized words\"\"\"\n",
    "    stemmer = LancasterStemmer()\n",
    "    stems = []\n",
    "    for word in words:\n",
    "        stem = stemmer.stem(word)\n",
    "        stems.append(stem)\n",
    "    return stems\n",
    "\n",
    "def lemmatize_verbs(words):\n",
    "    \"\"\"Lemmatize verbs in list of tokenized words\"\"\"\n",
    "    lemmatizer = WordNetLemmatizer()\n",
    "    lemmas = []\n",
    "    for word in words:\n",
    "        lemma = lemmatizer.lemmatize(word, pos='v')\n",
    "        lemmas.append(lemma)\n",
    "    return lemmas\n",
    "\n",
    "def normalize(words):\n",
    "    words = remove_non_ascii(words)\n",
    "    words = to_lowercase(words)\n",
    "    words = remove_punctuation(words)\n",
    "    words = remove_numbers(words)\n",
    "#    words = remove_stopwords(words)\n",
    "    return words\n"
   ]
  },
  {
   "cell_type": "code",
   "execution_count": 14,
   "metadata": {},
   "outputs": [
    {
     "data": {
      "text/html": [
       "<div>\n",
       "<style scoped>\n",
       "    .dataframe tbody tr th:only-of-type {\n",
       "        vertical-align: middle;\n",
       "    }\n",
       "\n",
       "    .dataframe tbody tr th {\n",
       "        vertical-align: top;\n",
       "    }\n",
       "\n",
       "    .dataframe thead th {\n",
       "        text-align: right;\n",
       "    }\n",
       "</style>\n",
       "<table border=\"1\" class=\"dataframe\">\n",
       "  <thead>\n",
       "    <tr style=\"text-align: right;\">\n",
       "      <th></th>\n",
       "      <th>Rating</th>\n",
       "      <th>Phrases</th>\n",
       "    </tr>\n",
       "  </thead>\n",
       "  <tbody>\n",
       "    <tr>\n",
       "      <th>0</th>\n",
       "      <td>1</td>\n",
       "      <td>this was the first clive cussler i've ever rea...</td>\n",
       "    </tr>\n",
       "    <tr>\n",
       "      <th>1</th>\n",
       "      <td>1</td>\n",
       "      <td>i liked the Da Vinci Code a lot.</td>\n",
       "    </tr>\n",
       "    <tr>\n",
       "      <th>2</th>\n",
       "      <td>1</td>\n",
       "      <td>i liked the Da Vinci Code a lot.</td>\n",
       "    </tr>\n",
       "    <tr>\n",
       "      <th>3</th>\n",
       "      <td>1</td>\n",
       "      <td>I liked the Da Vinci Code but it ultimatly did...</td>\n",
       "    </tr>\n",
       "    <tr>\n",
       "      <th>4</th>\n",
       "      <td>1</td>\n",
       "      <td>that's not even an exaggeration ) and at midni...</td>\n",
       "    </tr>\n",
       "  </tbody>\n",
       "</table>\n",
       "</div>"
      ],
      "text/plain": [
       "   Rating                                            Phrases\n",
       "0       1  this was the first clive cussler i've ever rea...\n",
       "1       1                   i liked the Da Vinci Code a lot.\n",
       "2       1                   i liked the Da Vinci Code a lot.\n",
       "3       1  I liked the Da Vinci Code but it ultimatly did...\n",
       "4       1  that's not even an exaggeration ) and at midni..."
      ]
     },
     "execution_count": 14,
     "metadata": {},
     "output_type": "execute_result"
    }
   ],
   "source": [
    "df.head()"
   ]
  },
  {
   "cell_type": "code",
   "execution_count": 16,
   "metadata": {},
   "outputs": [
    {
     "data": {
      "text/plain": [
       "0    [this, was, the, first, clive, cussler, i, ve,...\n",
       "1             [i, liked, the, da, vinci, code, a, lot]\n",
       "2             [i, liked, the, da, vinci, code, a, lot]\n",
       "3    [i, liked, the, da, vinci, code, but, it, ulti...\n",
       "4    [that, s, not, even, an, exaggeration, and, at...\n",
       "Name: Words, dtype: object"
      ]
     },
     "execution_count": 16,
     "metadata": {},
     "output_type": "execute_result"
    }
   ],
   "source": [
    "# First step - tokenizing phrases\n",
    "df['Words'] = df['Phrases'].apply(nltk.word_tokenize)\n",
    "\n",
    "# Second step - passing through prep functions\n",
    "df['Words'] = df['Words'].apply(normalize) \n",
    "df['Words'].head()"
   ]
  },
  {
   "cell_type": "code",
   "execution_count": 17,
   "metadata": {},
   "outputs": [
    {
     "name": "stderr",
     "output_type": "stream",
     "text": [
      "[nltk_data] Downloading package punkt to\n",
      "[nltk_data]     C:\\Users\\rusal\\AppData\\Roaming\\nltk_data...\n",
      "[nltk_data]   Package punkt is already up-to-date!\n"
     ]
    },
    {
     "data": {
      "text/plain": [
       "True"
      ]
     },
     "execution_count": 17,
     "metadata": {},
     "output_type": "execute_result"
    }
   ],
   "source": [
    "import nltk\n",
    "nltk.download('punkt')"
   ]
  },
  {
   "cell_type": "code",
   "execution_count": 18,
   "metadata": {},
   "outputs": [
    {
     "data": {
      "text/html": [
       "<div>\n",
       "<style scoped>\n",
       "    .dataframe tbody tr th:only-of-type {\n",
       "        vertical-align: middle;\n",
       "    }\n",
       "\n",
       "    .dataframe tbody tr th {\n",
       "        vertical-align: top;\n",
       "    }\n",
       "\n",
       "    .dataframe thead th {\n",
       "        text-align: right;\n",
       "    }\n",
       "</style>\n",
       "<table border=\"1\" class=\"dataframe\">\n",
       "  <thead>\n",
       "    <tr style=\"text-align: right;\">\n",
       "      <th></th>\n",
       "      <th>Rating</th>\n",
       "      <th>Phrases</th>\n",
       "      <th>Words</th>\n",
       "    </tr>\n",
       "  </thead>\n",
       "  <tbody>\n",
       "    <tr>\n",
       "      <th>0</th>\n",
       "      <td>1</td>\n",
       "      <td>this was the first clive cussler i've ever rea...</td>\n",
       "      <td>[this, was, the, first, clive, cussler, i, ve,...</td>\n",
       "    </tr>\n",
       "    <tr>\n",
       "      <th>1</th>\n",
       "      <td>1</td>\n",
       "      <td>i liked the Da Vinci Code a lot.</td>\n",
       "      <td>[i, liked, the, da, vinci, code, a, lot]</td>\n",
       "    </tr>\n",
       "    <tr>\n",
       "      <th>2</th>\n",
       "      <td>1</td>\n",
       "      <td>i liked the Da Vinci Code a lot.</td>\n",
       "      <td>[i, liked, the, da, vinci, code, a, lot]</td>\n",
       "    </tr>\n",
       "    <tr>\n",
       "      <th>3</th>\n",
       "      <td>1</td>\n",
       "      <td>I liked the Da Vinci Code but it ultimatly did...</td>\n",
       "      <td>[i, liked, the, da, vinci, code, but, it, ulti...</td>\n",
       "    </tr>\n",
       "    <tr>\n",
       "      <th>4</th>\n",
       "      <td>1</td>\n",
       "      <td>that's not even an exaggeration ) and at midni...</td>\n",
       "      <td>[that, s, not, even, an, exaggeration, and, at...</td>\n",
       "    </tr>\n",
       "    <tr>\n",
       "      <th>...</th>\n",
       "      <td>...</td>\n",
       "      <td>...</td>\n",
       "      <td>...</td>\n",
       "    </tr>\n",
       "    <tr>\n",
       "      <th>6912</th>\n",
       "      <td>0</td>\n",
       "      <td>Brokeback Mountain was boring.</td>\n",
       "      <td>[brokeback, mountain, was, boring]</td>\n",
       "    </tr>\n",
       "    <tr>\n",
       "      <th>6913</th>\n",
       "      <td>0</td>\n",
       "      <td>So Brokeback Mountain was really depressing.</td>\n",
       "      <td>[so, brokeback, mountain, was, really, depress...</td>\n",
       "    </tr>\n",
       "    <tr>\n",
       "      <th>6914</th>\n",
       "      <td>0</td>\n",
       "      <td>As I sit here, watching the MTV Movie Awards, ...</td>\n",
       "      <td>[as, i, sit, here, watching, the, mtv, movie, ...</td>\n",
       "    </tr>\n",
       "    <tr>\n",
       "      <th>6915</th>\n",
       "      <td>0</td>\n",
       "      <td>Ok brokeback mountain is such a horrible movie.</td>\n",
       "      <td>[ok, brokeback, mountain, is, such, a, horribl...</td>\n",
       "    </tr>\n",
       "    <tr>\n",
       "      <th>6916</th>\n",
       "      <td>0</td>\n",
       "      <td>Oh, and Brokeback Mountain was a terrible movie.</td>\n",
       "      <td>[oh, and, brokeback, mountain, was, a, terribl...</td>\n",
       "    </tr>\n",
       "  </tbody>\n",
       "</table>\n",
       "<p>6917 rows × 3 columns</p>\n",
       "</div>"
      ],
      "text/plain": [
       "      Rating                                            Phrases  \\\n",
       "0          1  this was the first clive cussler i've ever rea...   \n",
       "1          1                   i liked the Da Vinci Code a lot.   \n",
       "2          1                   i liked the Da Vinci Code a lot.   \n",
       "3          1  I liked the Da Vinci Code but it ultimatly did...   \n",
       "4          1  that's not even an exaggeration ) and at midni...   \n",
       "...      ...                                                ...   \n",
       "6912       0                     Brokeback Mountain was boring.   \n",
       "6913       0       So Brokeback Mountain was really depressing.   \n",
       "6914       0  As I sit here, watching the MTV Movie Awards, ...   \n",
       "6915       0    Ok brokeback mountain is such a horrible movie.   \n",
       "6916       0   Oh, and Brokeback Mountain was a terrible movie.   \n",
       "\n",
       "                                                  Words  \n",
       "0     [this, was, the, first, clive, cussler, i, ve,...  \n",
       "1              [i, liked, the, da, vinci, code, a, lot]  \n",
       "2              [i, liked, the, da, vinci, code, a, lot]  \n",
       "3     [i, liked, the, da, vinci, code, but, it, ulti...  \n",
       "4     [that, s, not, even, an, exaggeration, and, at...  \n",
       "...                                                 ...  \n",
       "6912                 [brokeback, mountain, was, boring]  \n",
       "6913  [so, brokeback, mountain, was, really, depress...  \n",
       "6914  [as, i, sit, here, watching, the, mtv, movie, ...  \n",
       "6915  [ok, brokeback, mountain, is, such, a, horribl...  \n",
       "6916  [oh, and, brokeback, mountain, was, a, terribl...  \n",
       "\n",
       "[6917 rows x 3 columns]"
      ]
     },
     "execution_count": 18,
     "metadata": {},
     "output_type": "execute_result"
    }
   ],
   "source": [
    "df"
   ]
  },
  {
   "cell_type": "code",
   "execution_count": 19,
   "metadata": {},
   "outputs": [
    {
     "name": "stdout",
     "output_type": "stream",
     "text": [
      "2165\n",
      "2165\n"
     ]
    }
   ],
   "source": [
    "# Third step - creating a list of unique words to be used as dictionary for encoding\n",
    "word_set = set()\n",
    "for l in df['Words']:\n",
    "    for e in l:\n",
    "        word_set.add(e)\n",
    "        \n",
    "word_to_int = {word: ii for ii, word in enumerate(word_set, 1)}\n",
    "\n",
    "# Check if they are still the same lenght\n",
    "print(len(word_set))\n",
    "print(len(word_to_int))"
   ]
  },
  {
   "cell_type": "code",
   "execution_count": 20,
   "metadata": {},
   "outputs": [
    {
     "data": {
      "text/plain": [
       "0    [1107, 1874, 259, 41, 805, 243, 1796, 904, 129...\n",
       "1        [1796, 1180, 259, 936, 2044, 211, 2074, 2127]\n",
       "2        [1796, 1180, 259, 936, 2044, 211, 2074, 2127]\n",
       "3    [1796, 1180, 259, 936, 2044, 211, 866, 1253, 2...\n",
       "4    [1333, 1867, 1870, 1295, 548, 1316, 1525, 1778...\n",
       "Name: Tokens, dtype: object"
      ]
     },
     "execution_count": 20,
     "metadata": {},
     "output_type": "execute_result"
    }
   ],
   "source": [
    "# Now the dict to tokenize each phrase\n",
    "df['Tokens'] = df['Words'].apply(lambda l: [word_to_int[word] for word in l])\n",
    "df['Tokens'].head()"
   ]
  },
  {
   "cell_type": "code",
   "execution_count": 21,
   "metadata": {},
   "outputs": [
    {
     "data": {
      "text/html": [
       "<div>\n",
       "<style scoped>\n",
       "    .dataframe tbody tr th:only-of-type {\n",
       "        vertical-align: middle;\n",
       "    }\n",
       "\n",
       "    .dataframe tbody tr th {\n",
       "        vertical-align: top;\n",
       "    }\n",
       "\n",
       "    .dataframe thead th {\n",
       "        text-align: right;\n",
       "    }\n",
       "</style>\n",
       "<table border=\"1\" class=\"dataframe\">\n",
       "  <thead>\n",
       "    <tr style=\"text-align: right;\">\n",
       "      <th></th>\n",
       "      <th>Rating</th>\n",
       "      <th>Phrases</th>\n",
       "      <th>Words</th>\n",
       "      <th>Tokens</th>\n",
       "    </tr>\n",
       "  </thead>\n",
       "  <tbody>\n",
       "    <tr>\n",
       "      <th>0</th>\n",
       "      <td>1</td>\n",
       "      <td>this was the first clive cussler i've ever rea...</td>\n",
       "      <td>[this, was, the, first, clive, cussler, i, ve,...</td>\n",
       "      <td>[1107, 1874, 259, 41, 805, 243, 1796, 904, 129...</td>\n",
       "    </tr>\n",
       "    <tr>\n",
       "      <th>1</th>\n",
       "      <td>1</td>\n",
       "      <td>i liked the Da Vinci Code a lot.</td>\n",
       "      <td>[i, liked, the, da, vinci, code, a, lot]</td>\n",
       "      <td>[1796, 1180, 259, 936, 2044, 211, 2074, 2127]</td>\n",
       "    </tr>\n",
       "    <tr>\n",
       "      <th>2</th>\n",
       "      <td>1</td>\n",
       "      <td>i liked the Da Vinci Code a lot.</td>\n",
       "      <td>[i, liked, the, da, vinci, code, a, lot]</td>\n",
       "      <td>[1796, 1180, 259, 936, 2044, 211, 2074, 2127]</td>\n",
       "    </tr>\n",
       "    <tr>\n",
       "      <th>3</th>\n",
       "      <td>1</td>\n",
       "      <td>I liked the Da Vinci Code but it ultimatly did...</td>\n",
       "      <td>[i, liked, the, da, vinci, code, but, it, ulti...</td>\n",
       "      <td>[1796, 1180, 259, 936, 2044, 211, 866, 1253, 2...</td>\n",
       "    </tr>\n",
       "    <tr>\n",
       "      <th>4</th>\n",
       "      <td>1</td>\n",
       "      <td>that's not even an exaggeration ) and at midni...</td>\n",
       "      <td>[that, s, not, even, an, exaggeration, and, at...</td>\n",
       "      <td>[1333, 1867, 1870, 1295, 548, 1316, 1525, 1778...</td>\n",
       "    </tr>\n",
       "    <tr>\n",
       "      <th>...</th>\n",
       "      <td>...</td>\n",
       "      <td>...</td>\n",
       "      <td>...</td>\n",
       "      <td>...</td>\n",
       "    </tr>\n",
       "    <tr>\n",
       "      <th>6912</th>\n",
       "      <td>0</td>\n",
       "      <td>Brokeback Mountain was boring.</td>\n",
       "      <td>[brokeback, mountain, was, boring]</td>\n",
       "      <td>[677, 1196, 1874, 1130]</td>\n",
       "    </tr>\n",
       "    <tr>\n",
       "      <th>6913</th>\n",
       "      <td>0</td>\n",
       "      <td>So Brokeback Mountain was really depressing.</td>\n",
       "      <td>[so, brokeback, mountain, was, really, depress...</td>\n",
       "      <td>[1647, 677, 1196, 1874, 445, 865]</td>\n",
       "    </tr>\n",
       "    <tr>\n",
       "      <th>6914</th>\n",
       "      <td>0</td>\n",
       "      <td>As I sit here, watching the MTV Movie Awards, ...</td>\n",
       "      <td>[as, i, sit, here, watching, the, mtv, movie, ...</td>\n",
       "      <td>[1922, 1796, 1880, 1045, 1168, 259, 864, 1286,...</td>\n",
       "    </tr>\n",
       "    <tr>\n",
       "      <th>6915</th>\n",
       "      <td>0</td>\n",
       "      <td>Ok brokeback mountain is such a horrible movie.</td>\n",
       "      <td>[ok, brokeback, mountain, is, such, a, horribl...</td>\n",
       "      <td>[1592, 677, 1196, 222, 535, 2074, 1380, 1286]</td>\n",
       "    </tr>\n",
       "    <tr>\n",
       "      <th>6916</th>\n",
       "      <td>0</td>\n",
       "      <td>Oh, and Brokeback Mountain was a terrible movie.</td>\n",
       "      <td>[oh, and, brokeback, mountain, was, a, terribl...</td>\n",
       "      <td>[1129, 1525, 677, 1196, 1874, 2074, 2083, 1286]</td>\n",
       "    </tr>\n",
       "  </tbody>\n",
       "</table>\n",
       "<p>6917 rows × 4 columns</p>\n",
       "</div>"
      ],
      "text/plain": [
       "      Rating                                            Phrases  \\\n",
       "0          1  this was the first clive cussler i've ever rea...   \n",
       "1          1                   i liked the Da Vinci Code a lot.   \n",
       "2          1                   i liked the Da Vinci Code a lot.   \n",
       "3          1  I liked the Da Vinci Code but it ultimatly did...   \n",
       "4          1  that's not even an exaggeration ) and at midni...   \n",
       "...      ...                                                ...   \n",
       "6912       0                     Brokeback Mountain was boring.   \n",
       "6913       0       So Brokeback Mountain was really depressing.   \n",
       "6914       0  As I sit here, watching the MTV Movie Awards, ...   \n",
       "6915       0    Ok brokeback mountain is such a horrible movie.   \n",
       "6916       0   Oh, and Brokeback Mountain was a terrible movie.   \n",
       "\n",
       "                                                  Words  \\\n",
       "0     [this, was, the, first, clive, cussler, i, ve,...   \n",
       "1              [i, liked, the, da, vinci, code, a, lot]   \n",
       "2              [i, liked, the, da, vinci, code, a, lot]   \n",
       "3     [i, liked, the, da, vinci, code, but, it, ulti...   \n",
       "4     [that, s, not, even, an, exaggeration, and, at...   \n",
       "...                                                 ...   \n",
       "6912                 [brokeback, mountain, was, boring]   \n",
       "6913  [so, brokeback, mountain, was, really, depress...   \n",
       "6914  [as, i, sit, here, watching, the, mtv, movie, ...   \n",
       "6915  [ok, brokeback, mountain, is, such, a, horribl...   \n",
       "6916  [oh, and, brokeback, mountain, was, a, terribl...   \n",
       "\n",
       "                                                 Tokens  \n",
       "0     [1107, 1874, 259, 41, 805, 243, 1796, 904, 129...  \n",
       "1         [1796, 1180, 259, 936, 2044, 211, 2074, 2127]  \n",
       "2         [1796, 1180, 259, 936, 2044, 211, 2074, 2127]  \n",
       "3     [1796, 1180, 259, 936, 2044, 211, 866, 1253, 2...  \n",
       "4     [1333, 1867, 1870, 1295, 548, 1316, 1525, 1778...  \n",
       "...                                                 ...  \n",
       "6912                            [677, 1196, 1874, 1130]  \n",
       "6913                  [1647, 677, 1196, 1874, 445, 865]  \n",
       "6914  [1922, 1796, 1880, 1045, 1168, 259, 864, 1286,...  \n",
       "6915      [1592, 677, 1196, 222, 535, 2074, 1380, 1286]  \n",
       "6916    [1129, 1525, 677, 1196, 1874, 2074, 2083, 1286]  \n",
       "\n",
       "[6917 rows x 4 columns]"
      ]
     },
     "execution_count": 21,
     "metadata": {},
     "output_type": "execute_result"
    }
   ],
   "source": [
    "df"
   ]
  },
  {
   "cell_type": "code",
   "execution_count": 22,
   "metadata": {},
   "outputs": [
    {
     "name": "stdout",
     "output_type": "stream",
     "text": [
      "873\n"
     ]
    }
   ],
   "source": [
    "# Step four - get the len of longest phrase\n",
    "max_len = df['Tokens'].str.len().max()\n",
    "print(max_len)"
   ]
  },
  {
   "cell_type": "code",
   "execution_count": 23,
   "metadata": {},
   "outputs": [
    {
     "data": {
      "text/html": [
       "<div>\n",
       "<style scoped>\n",
       "    .dataframe tbody tr th:only-of-type {\n",
       "        vertical-align: middle;\n",
       "    }\n",
       "\n",
       "    .dataframe tbody tr th {\n",
       "        vertical-align: top;\n",
       "    }\n",
       "\n",
       "    .dataframe thead th {\n",
       "        text-align: right;\n",
       "    }\n",
       "</style>\n",
       "<table border=\"1\" class=\"dataframe\">\n",
       "  <thead>\n",
       "    <tr style=\"text-align: right;\">\n",
       "      <th></th>\n",
       "      <th>Rating</th>\n",
       "      <th>Phrases</th>\n",
       "      <th>Words</th>\n",
       "      <th>Tokens</th>\n",
       "    </tr>\n",
       "  </thead>\n",
       "  <tbody>\n",
       "    <tr>\n",
       "      <th>0</th>\n",
       "      <td>1</td>\n",
       "      <td>this was the first clive cussler i've ever rea...</td>\n",
       "      <td>[this, was, the, first, clive, cussler, i, ve,...</td>\n",
       "      <td>[1107, 1874, 259, 41, 805, 243, 1796, 904, 129...</td>\n",
       "    </tr>\n",
       "    <tr>\n",
       "      <th>1</th>\n",
       "      <td>1</td>\n",
       "      <td>i liked the Da Vinci Code a lot.</td>\n",
       "      <td>[i, liked, the, da, vinci, code, a, lot]</td>\n",
       "      <td>[1796, 1180, 259, 936, 2044, 211, 2074, 2127]</td>\n",
       "    </tr>\n",
       "    <tr>\n",
       "      <th>2</th>\n",
       "      <td>1</td>\n",
       "      <td>i liked the Da Vinci Code a lot.</td>\n",
       "      <td>[i, liked, the, da, vinci, code, a, lot]</td>\n",
       "      <td>[1796, 1180, 259, 936, 2044, 211, 2074, 2127]</td>\n",
       "    </tr>\n",
       "    <tr>\n",
       "      <th>3</th>\n",
       "      <td>1</td>\n",
       "      <td>I liked the Da Vinci Code but it ultimatly did...</td>\n",
       "      <td>[i, liked, the, da, vinci, code, but, it, ulti...</td>\n",
       "      <td>[1796, 1180, 259, 936, 2044, 211, 866, 1253, 2...</td>\n",
       "    </tr>\n",
       "    <tr>\n",
       "      <th>4</th>\n",
       "      <td>1</td>\n",
       "      <td>that's not even an exaggeration ) and at midni...</td>\n",
       "      <td>[that, s, not, even, an, exaggeration, and, at...</td>\n",
       "      <td>[1333, 1867, 1870, 1295, 548, 1316, 1525, 1778...</td>\n",
       "    </tr>\n",
       "    <tr>\n",
       "      <th>...</th>\n",
       "      <td>...</td>\n",
       "      <td>...</td>\n",
       "      <td>...</td>\n",
       "      <td>...</td>\n",
       "    </tr>\n",
       "    <tr>\n",
       "      <th>6912</th>\n",
       "      <td>0</td>\n",
       "      <td>Brokeback Mountain was boring.</td>\n",
       "      <td>[brokeback, mountain, was, boring]</td>\n",
       "      <td>[677, 1196, 1874, 1130]</td>\n",
       "    </tr>\n",
       "    <tr>\n",
       "      <th>6913</th>\n",
       "      <td>0</td>\n",
       "      <td>So Brokeback Mountain was really depressing.</td>\n",
       "      <td>[so, brokeback, mountain, was, really, depress...</td>\n",
       "      <td>[1647, 677, 1196, 1874, 445, 865]</td>\n",
       "    </tr>\n",
       "    <tr>\n",
       "      <th>6914</th>\n",
       "      <td>0</td>\n",
       "      <td>As I sit here, watching the MTV Movie Awards, ...</td>\n",
       "      <td>[as, i, sit, here, watching, the, mtv, movie, ...</td>\n",
       "      <td>[1922, 1796, 1880, 1045, 1168, 259, 864, 1286,...</td>\n",
       "    </tr>\n",
       "    <tr>\n",
       "      <th>6915</th>\n",
       "      <td>0</td>\n",
       "      <td>Ok brokeback mountain is such a horrible movie.</td>\n",
       "      <td>[ok, brokeback, mountain, is, such, a, horribl...</td>\n",
       "      <td>[1592, 677, 1196, 222, 535, 2074, 1380, 1286]</td>\n",
       "    </tr>\n",
       "    <tr>\n",
       "      <th>6916</th>\n",
       "      <td>0</td>\n",
       "      <td>Oh, and Brokeback Mountain was a terrible movie.</td>\n",
       "      <td>[oh, and, brokeback, mountain, was, a, terribl...</td>\n",
       "      <td>[1129, 1525, 677, 1196, 1874, 2074, 2083, 1286]</td>\n",
       "    </tr>\n",
       "  </tbody>\n",
       "</table>\n",
       "<p>6917 rows × 4 columns</p>\n",
       "</div>"
      ],
      "text/plain": [
       "      Rating                                            Phrases  \\\n",
       "0          1  this was the first clive cussler i've ever rea...   \n",
       "1          1                   i liked the Da Vinci Code a lot.   \n",
       "2          1                   i liked the Da Vinci Code a lot.   \n",
       "3          1  I liked the Da Vinci Code but it ultimatly did...   \n",
       "4          1  that's not even an exaggeration ) and at midni...   \n",
       "...      ...                                                ...   \n",
       "6912       0                     Brokeback Mountain was boring.   \n",
       "6913       0       So Brokeback Mountain was really depressing.   \n",
       "6914       0  As I sit here, watching the MTV Movie Awards, ...   \n",
       "6915       0    Ok brokeback mountain is such a horrible movie.   \n",
       "6916       0   Oh, and Brokeback Mountain was a terrible movie.   \n",
       "\n",
       "                                                  Words  \\\n",
       "0     [this, was, the, first, clive, cussler, i, ve,...   \n",
       "1              [i, liked, the, da, vinci, code, a, lot]   \n",
       "2              [i, liked, the, da, vinci, code, a, lot]   \n",
       "3     [i, liked, the, da, vinci, code, but, it, ulti...   \n",
       "4     [that, s, not, even, an, exaggeration, and, at...   \n",
       "...                                                 ...   \n",
       "6912                 [brokeback, mountain, was, boring]   \n",
       "6913  [so, brokeback, mountain, was, really, depress...   \n",
       "6914  [as, i, sit, here, watching, the, mtv, movie, ...   \n",
       "6915  [ok, brokeback, mountain, is, such, a, horribl...   \n",
       "6916  [oh, and, brokeback, mountain, was, a, terribl...   \n",
       "\n",
       "                                                 Tokens  \n",
       "0     [1107, 1874, 259, 41, 805, 243, 1796, 904, 129...  \n",
       "1         [1796, 1180, 259, 936, 2044, 211, 2074, 2127]  \n",
       "2         [1796, 1180, 259, 936, 2044, 211, 2074, 2127]  \n",
       "3     [1796, 1180, 259, 936, 2044, 211, 866, 1253, 2...  \n",
       "4     [1333, 1867, 1870, 1295, 548, 1316, 1525, 1778...  \n",
       "...                                                 ...  \n",
       "6912                            [677, 1196, 1874, 1130]  \n",
       "6913                  [1647, 677, 1196, 1874, 445, 865]  \n",
       "6914  [1922, 1796, 1880, 1045, 1168, 259, 864, 1286,...  \n",
       "6915      [1592, 677, 1196, 222, 535, 2074, 1380, 1286]  \n",
       "6916    [1129, 1525, 677, 1196, 1874, 2074, 2083, 1286]  \n",
       "\n",
       "[6917 rows x 4 columns]"
      ]
     },
     "execution_count": 23,
     "metadata": {},
     "output_type": "execute_result"
    }
   ],
   "source": [
    "df"
   ]
  },
  {
   "cell_type": "code",
   "execution_count": 24,
   "metadata": {},
   "outputs": [
    {
     "name": "stdout",
     "output_type": "stream",
     "text": [
      "[[1107 1874  259 ...    0    0    0]\n",
      " [1796 1180  259 ...    0    0    0]\n",
      " [1796 1180  259 ...    0    0    0]]\n"
     ]
    }
   ],
   "source": [
    "# Pad each phrase representation with zeroes, starting from the beginning of sequence\n",
    "# Will use a combined list of phrases as np array for further work. \n",
    "\n",
    "all_tokens = np.array([t for t in df['Tokens']])\n",
    "encoded_labels = np.array([l for l in df['Rating']])\n",
    "\n",
    "# Create blank rows\n",
    "features = np.zeros((len(all_tokens), max_len), dtype=int)\n",
    "# for each phrase, add zeros at the end \n",
    "for i, row in enumerate(all_tokens):\n",
    "    features[i, :len(row)] = row\n",
    "\n",
    "#print first 3 values of the feature matrix \n",
    "print(features[:3])"
   ]
  },
  {
   "cell_type": "code",
   "execution_count": 25,
   "metadata": {},
   "outputs": [
    {
     "data": {
      "text/html": [
       "<div>\n",
       "<style scoped>\n",
       "    .dataframe tbody tr th:only-of-type {\n",
       "        vertical-align: middle;\n",
       "    }\n",
       "\n",
       "    .dataframe tbody tr th {\n",
       "        vertical-align: top;\n",
       "    }\n",
       "\n",
       "    .dataframe thead th {\n",
       "        text-align: right;\n",
       "    }\n",
       "</style>\n",
       "<table border=\"1\" class=\"dataframe\">\n",
       "  <thead>\n",
       "    <tr style=\"text-align: right;\">\n",
       "      <th></th>\n",
       "      <th>Rating</th>\n",
       "      <th>Phrases</th>\n",
       "      <th>Words</th>\n",
       "      <th>Tokens</th>\n",
       "    </tr>\n",
       "  </thead>\n",
       "  <tbody>\n",
       "    <tr>\n",
       "      <th>0</th>\n",
       "      <td>1</td>\n",
       "      <td>this was the first clive cussler i've ever rea...</td>\n",
       "      <td>[this, was, the, first, clive, cussler, i, ve,...</td>\n",
       "      <td>[1107, 1874, 259, 41, 805, 243, 1796, 904, 129...</td>\n",
       "    </tr>\n",
       "    <tr>\n",
       "      <th>1</th>\n",
       "      <td>1</td>\n",
       "      <td>i liked the Da Vinci Code a lot.</td>\n",
       "      <td>[i, liked, the, da, vinci, code, a, lot]</td>\n",
       "      <td>[1796, 1180, 259, 936, 2044, 211, 2074, 2127]</td>\n",
       "    </tr>\n",
       "    <tr>\n",
       "      <th>2</th>\n",
       "      <td>1</td>\n",
       "      <td>i liked the Da Vinci Code a lot.</td>\n",
       "      <td>[i, liked, the, da, vinci, code, a, lot]</td>\n",
       "      <td>[1796, 1180, 259, 936, 2044, 211, 2074, 2127]</td>\n",
       "    </tr>\n",
       "    <tr>\n",
       "      <th>3</th>\n",
       "      <td>1</td>\n",
       "      <td>I liked the Da Vinci Code but it ultimatly did...</td>\n",
       "      <td>[i, liked, the, da, vinci, code, but, it, ulti...</td>\n",
       "      <td>[1796, 1180, 259, 936, 2044, 211, 866, 1253, 2...</td>\n",
       "    </tr>\n",
       "    <tr>\n",
       "      <th>4</th>\n",
       "      <td>1</td>\n",
       "      <td>that's not even an exaggeration ) and at midni...</td>\n",
       "      <td>[that, s, not, even, an, exaggeration, and, at...</td>\n",
       "      <td>[1333, 1867, 1870, 1295, 548, 1316, 1525, 1778...</td>\n",
       "    </tr>\n",
       "    <tr>\n",
       "      <th>...</th>\n",
       "      <td>...</td>\n",
       "      <td>...</td>\n",
       "      <td>...</td>\n",
       "      <td>...</td>\n",
       "    </tr>\n",
       "    <tr>\n",
       "      <th>6912</th>\n",
       "      <td>0</td>\n",
       "      <td>Brokeback Mountain was boring.</td>\n",
       "      <td>[brokeback, mountain, was, boring]</td>\n",
       "      <td>[677, 1196, 1874, 1130]</td>\n",
       "    </tr>\n",
       "    <tr>\n",
       "      <th>6913</th>\n",
       "      <td>0</td>\n",
       "      <td>So Brokeback Mountain was really depressing.</td>\n",
       "      <td>[so, brokeback, mountain, was, really, depress...</td>\n",
       "      <td>[1647, 677, 1196, 1874, 445, 865]</td>\n",
       "    </tr>\n",
       "    <tr>\n",
       "      <th>6914</th>\n",
       "      <td>0</td>\n",
       "      <td>As I sit here, watching the MTV Movie Awards, ...</td>\n",
       "      <td>[as, i, sit, here, watching, the, mtv, movie, ...</td>\n",
       "      <td>[1922, 1796, 1880, 1045, 1168, 259, 864, 1286,...</td>\n",
       "    </tr>\n",
       "    <tr>\n",
       "      <th>6915</th>\n",
       "      <td>0</td>\n",
       "      <td>Ok brokeback mountain is such a horrible movie.</td>\n",
       "      <td>[ok, brokeback, mountain, is, such, a, horribl...</td>\n",
       "      <td>[1592, 677, 1196, 222, 535, 2074, 1380, 1286]</td>\n",
       "    </tr>\n",
       "    <tr>\n",
       "      <th>6916</th>\n",
       "      <td>0</td>\n",
       "      <td>Oh, and Brokeback Mountain was a terrible movie.</td>\n",
       "      <td>[oh, and, brokeback, mountain, was, a, terribl...</td>\n",
       "      <td>[1129, 1525, 677, 1196, 1874, 2074, 2083, 1286]</td>\n",
       "    </tr>\n",
       "  </tbody>\n",
       "</table>\n",
       "<p>6917 rows × 4 columns</p>\n",
       "</div>"
      ],
      "text/plain": [
       "      Rating                                            Phrases  \\\n",
       "0          1  this was the first clive cussler i've ever rea...   \n",
       "1          1                   i liked the Da Vinci Code a lot.   \n",
       "2          1                   i liked the Da Vinci Code a lot.   \n",
       "3          1  I liked the Da Vinci Code but it ultimatly did...   \n",
       "4          1  that's not even an exaggeration ) and at midni...   \n",
       "...      ...                                                ...   \n",
       "6912       0                     Brokeback Mountain was boring.   \n",
       "6913       0       So Brokeback Mountain was really depressing.   \n",
       "6914       0  As I sit here, watching the MTV Movie Awards, ...   \n",
       "6915       0    Ok brokeback mountain is such a horrible movie.   \n",
       "6916       0   Oh, and Brokeback Mountain was a terrible movie.   \n",
       "\n",
       "                                                  Words  \\\n",
       "0     [this, was, the, first, clive, cussler, i, ve,...   \n",
       "1              [i, liked, the, da, vinci, code, a, lot]   \n",
       "2              [i, liked, the, da, vinci, code, a, lot]   \n",
       "3     [i, liked, the, da, vinci, code, but, it, ulti...   \n",
       "4     [that, s, not, even, an, exaggeration, and, at...   \n",
       "...                                                 ...   \n",
       "6912                 [brokeback, mountain, was, boring]   \n",
       "6913  [so, brokeback, mountain, was, really, depress...   \n",
       "6914  [as, i, sit, here, watching, the, mtv, movie, ...   \n",
       "6915  [ok, brokeback, mountain, is, such, a, horribl...   \n",
       "6916  [oh, and, brokeback, mountain, was, a, terribl...   \n",
       "\n",
       "                                                 Tokens  \n",
       "0     [1107, 1874, 259, 41, 805, 243, 1796, 904, 129...  \n",
       "1         [1796, 1180, 259, 936, 2044, 211, 2074, 2127]  \n",
       "2         [1796, 1180, 259, 936, 2044, 211, 2074, 2127]  \n",
       "3     [1796, 1180, 259, 936, 2044, 211, 866, 1253, 2...  \n",
       "4     [1333, 1867, 1870, 1295, 548, 1316, 1525, 1778...  \n",
       "...                                                 ...  \n",
       "6912                            [677, 1196, 1874, 1130]  \n",
       "6913                  [1647, 677, 1196, 1874, 445, 865]  \n",
       "6914  [1922, 1796, 1880, 1045, 1168, 259, 864, 1286,...  \n",
       "6915      [1592, 677, 1196, 222, 535, 2074, 1380, 1286]  \n",
       "6916    [1129, 1525, 677, 1196, 1874, 2074, 2083, 1286]  \n",
       "\n",
       "[6917 rows x 4 columns]"
      ]
     },
     "execution_count": 25,
     "metadata": {},
     "output_type": "execute_result"
    }
   ],
   "source": [
    "df"
   ]
  },
  {
   "cell_type": "code",
   "execution_count": 26,
   "metadata": {},
   "outputs": [],
   "source": [
    "df = df.sample(frac=1)"
   ]
  },
  {
   "cell_type": "code",
   "execution_count": 27,
   "metadata": {},
   "outputs": [
    {
     "data": {
      "text/html": [
       "<div>\n",
       "<style scoped>\n",
       "    .dataframe tbody tr th:only-of-type {\n",
       "        vertical-align: middle;\n",
       "    }\n",
       "\n",
       "    .dataframe tbody tr th {\n",
       "        vertical-align: top;\n",
       "    }\n",
       "\n",
       "    .dataframe thead th {\n",
       "        text-align: right;\n",
       "    }\n",
       "</style>\n",
       "<table border=\"1\" class=\"dataframe\">\n",
       "  <thead>\n",
       "    <tr style=\"text-align: right;\">\n",
       "      <th></th>\n",
       "      <th>Rating</th>\n",
       "      <th>Phrases</th>\n",
       "      <th>Words</th>\n",
       "      <th>Tokens</th>\n",
       "    </tr>\n",
       "  </thead>\n",
       "  <tbody>\n",
       "    <tr>\n",
       "      <th>3244</th>\n",
       "      <td>1</td>\n",
       "      <td>He's like,'YEAH I GOT ACNE AND I LOVE BROKEBAC...</td>\n",
       "      <td>[he, s, like, yeah, i, got, acne, and, i, love...</td>\n",
       "      <td>[887, 1867, 888, 735, 1796, 745, 742, 1525, 17...</td>\n",
       "    </tr>\n",
       "    <tr>\n",
       "      <th>507</th>\n",
       "      <td>1</td>\n",
       "      <td>The Da Vinci Code is awesome!!</td>\n",
       "      <td>[the, da, vinci, code, is, awesome]</td>\n",
       "      <td>[259, 936, 2044, 211, 222, 1480]</td>\n",
       "    </tr>\n",
       "    <tr>\n",
       "      <th>5046</th>\n",
       "      <td>0</td>\n",
       "      <td>My point is, Harry Potter is evil...</td>\n",
       "      <td>[my, point, is, harry, potter, is, evil]</td>\n",
       "      <td>[1893, 1551, 222, 1984, 1017, 222, 288]</td>\n",
       "    </tr>\n",
       "    <tr>\n",
       "      <th>294</th>\n",
       "      <td>1</td>\n",
       "      <td>DA VINCI CODE IS AWESOME!!</td>\n",
       "      <td>[da, vinci, code, is, awesome]</td>\n",
       "      <td>[936, 2044, 211, 222, 1480]</td>\n",
       "    </tr>\n",
       "    <tr>\n",
       "      <th>4142</th>\n",
       "      <td>0</td>\n",
       "      <td>i heard da vinci code sucked soo much only 2.5...</td>\n",
       "      <td>[i, heard, da, vinci, code, sucked, soo, much,...</td>\n",
       "      <td>[1796, 2075, 936, 2044, 211, 1849, 1498, 1234,...</td>\n",
       "    </tr>\n",
       "    <tr>\n",
       "      <th>...</th>\n",
       "      <td>...</td>\n",
       "      <td>...</td>\n",
       "      <td>...</td>\n",
       "      <td>...</td>\n",
       "    </tr>\n",
       "    <tr>\n",
       "      <th>4586</th>\n",
       "      <td>0</td>\n",
       "      <td>Combining the opinion / review from Gary and G...</td>\n",
       "      <td>[combining, the, opinion, review, from, gary, ...</td>\n",
       "      <td>[1590, 259, 121, 1638, 1862, 2, 1525, 1755, 10...</td>\n",
       "    </tr>\n",
       "    <tr>\n",
       "      <th>6759</th>\n",
       "      <td>0</td>\n",
       "      <td>, she helped me bobbypin my insanely cool hat ...</td>\n",
       "      <td>[she, helped, me, bobbypin, my, insanely, cool...</td>\n",
       "      <td>[241, 2125, 1882, 79, 1893, 1603, 1277, 334, 2...</td>\n",
       "    </tr>\n",
       "    <tr>\n",
       "      <th>4940</th>\n",
       "      <td>0</td>\n",
       "      <td>I hate playing Mission Impossible --- love 007..</td>\n",
       "      <td>[i, hate, playing, mission, impossible, love]</td>\n",
       "      <td>[1796, 1597, 491, 1985, 1991, 2135]</td>\n",
       "    </tr>\n",
       "    <tr>\n",
       "      <th>1250</th>\n",
       "      <td>1</td>\n",
       "      <td>I like Mission Impossible movies because you n...</td>\n",
       "      <td>[i, like, mission, impossible, movies, because...</td>\n",
       "      <td>[1796, 888, 1985, 1991, 207, 1785, 1512, 449, ...</td>\n",
       "    </tr>\n",
       "    <tr>\n",
       "      <th>917</th>\n",
       "      <td>1</td>\n",
       "      <td>The Da Vinci Code is awesome!!</td>\n",
       "      <td>[the, da, vinci, code, is, awesome]</td>\n",
       "      <td>[259, 936, 2044, 211, 222, 1480]</td>\n",
       "    </tr>\n",
       "  </tbody>\n",
       "</table>\n",
       "<p>6917 rows × 4 columns</p>\n",
       "</div>"
      ],
      "text/plain": [
       "      Rating                                            Phrases  \\\n",
       "3244       1  He's like,'YEAH I GOT ACNE AND I LOVE BROKEBAC...   \n",
       "507        1                     The Da Vinci Code is awesome!!   \n",
       "5046       0               My point is, Harry Potter is evil...   \n",
       "294        1                         DA VINCI CODE IS AWESOME!!   \n",
       "4142       0  i heard da vinci code sucked soo much only 2.5...   \n",
       "...      ...                                                ...   \n",
       "4586       0  Combining the opinion / review from Gary and G...   \n",
       "6759       0  , she helped me bobbypin my insanely cool hat ...   \n",
       "4940       0   I hate playing Mission Impossible --- love 007..   \n",
       "1250       1  I like Mission Impossible movies because you n...   \n",
       "917        1                     The Da Vinci Code is awesome!!   \n",
       "\n",
       "                                                  Words  \\\n",
       "3244  [he, s, like, yeah, i, got, acne, and, i, love...   \n",
       "507                 [the, da, vinci, code, is, awesome]   \n",
       "5046           [my, point, is, harry, potter, is, evil]   \n",
       "294                      [da, vinci, code, is, awesome]   \n",
       "4142  [i, heard, da, vinci, code, sucked, soo, much,...   \n",
       "...                                                 ...   \n",
       "4586  [combining, the, opinion, review, from, gary, ...   \n",
       "6759  [she, helped, me, bobbypin, my, insanely, cool...   \n",
       "4940      [i, hate, playing, mission, impossible, love]   \n",
       "1250  [i, like, mission, impossible, movies, because...   \n",
       "917                 [the, da, vinci, code, is, awesome]   \n",
       "\n",
       "                                                 Tokens  \n",
       "3244  [887, 1867, 888, 735, 1796, 745, 742, 1525, 17...  \n",
       "507                    [259, 936, 2044, 211, 222, 1480]  \n",
       "5046            [1893, 1551, 222, 1984, 1017, 222, 288]  \n",
       "294                         [936, 2044, 211, 222, 1480]  \n",
       "4142  [1796, 2075, 936, 2044, 211, 1849, 1498, 1234,...  \n",
       "...                                                 ...  \n",
       "4586  [1590, 259, 121, 1638, 1862, 2, 1525, 1755, 10...  \n",
       "6759  [241, 2125, 1882, 79, 1893, 1603, 1277, 334, 2...  \n",
       "4940                [1796, 1597, 491, 1985, 1991, 2135]  \n",
       "1250  [1796, 888, 1985, 1991, 207, 1785, 1512, 449, ...  \n",
       "917                    [259, 936, 2044, 211, 222, 1480]  \n",
       "\n",
       "[6917 rows x 4 columns]"
      ]
     },
     "execution_count": 27,
     "metadata": {},
     "output_type": "execute_result"
    }
   ],
   "source": [
    "df"
   ]
  },
  {
   "cell_type": "code",
   "execution_count": null,
   "metadata": {},
   "outputs": [],
   "source": []
  },
  {
   "cell_type": "code",
   "execution_count": 28,
   "metadata": {},
   "outputs": [],
   "source": [
    "\n",
    "all_tokens = np.array([t for t in df['Tokens']])\n",
    "encoded_labels = np.array([l for l in df['Rating']])"
   ]
  },
  {
   "cell_type": "code",
   "execution_count": 29,
   "metadata": {},
   "outputs": [],
   "source": [
    "# Create blank rows\n",
    "features = np.zeros((len(all_tokens), max_len), dtype=int)\n",
    "# for each phrase, add zeros at the end \n",
    "for i, row in enumerate(all_tokens):\n",
    "    features[i, :len(row)] = row\n"
   ]
  },
  {
   "cell_type": "code",
   "execution_count": 30,
   "metadata": {},
   "outputs": [
    {
     "data": {
      "text/plain": [
       "array([[ 887, 1867,  888, ...,    0,    0,    0],\n",
       "       [ 259,  936, 2044, ...,    0,    0,    0],\n",
       "       [1893, 1551,  222, ...,    0,    0,    0],\n",
       "       ...,\n",
       "       [1796, 1597,  491, ...,    0,    0,    0],\n",
       "       [1796,  888, 1985, ...,    0,    0,    0],\n",
       "       [ 259,  936, 2044, ...,    0,    0,    0]])"
      ]
     },
     "execution_count": 30,
     "metadata": {},
     "output_type": "execute_result"
    }
   ],
   "source": [
    "features"
   ]
  },
  {
   "cell_type": "code",
   "execution_count": 31,
   "metadata": {},
   "outputs": [],
   "source": [
    "from sklearn.model_selection import train_test_split"
   ]
  },
  {
   "cell_type": "code",
   "execution_count": 32,
   "metadata": {},
   "outputs": [],
   "source": [
    "X = features\n",
    "y = encoded_labels\n",
    "X_train, X_test, y_train, y_test = train_test_split(X,y, test_size=0.30, random_state=101)"
   ]
  },
  {
   "cell_type": "code",
   "execution_count": 33,
   "metadata": {},
   "outputs": [],
   "source": [
    "from sklearn.svm import SVC"
   ]
  },
  {
   "cell_type": "code",
   "execution_count": 34,
   "metadata": {},
   "outputs": [],
   "source": [
    "model = SVC()"
   ]
  },
  {
   "cell_type": "code",
   "execution_count": 35,
   "metadata": {},
   "outputs": [
    {
     "data": {
      "text/plain": [
       "SVC(C=1.0, break_ties=False, cache_size=200, class_weight=None, coef0=0.0,\n",
       "    decision_function_shape='ovr', degree=3, gamma='scale', kernel='rbf',\n",
       "    max_iter=-1, probability=False, random_state=None, shrinking=True,\n",
       "    tol=0.001, verbose=False)"
      ]
     },
     "execution_count": 35,
     "metadata": {},
     "output_type": "execute_result"
    }
   ],
   "source": [
    "model.fit(X_train,y_train)"
   ]
  },
  {
   "cell_type": "code",
   "execution_count": 36,
   "metadata": {},
   "outputs": [
    {
     "data": {
      "text/plain": [
       "array([[1796,  745, 2074, ...,    0,    0,    0],\n",
       "       [1659, 1850,  588, ...,    0,    0,    0],\n",
       "       [1796,  888, 1985, ...,    0,    0,    0],\n",
       "       ...,\n",
       "       [ 866, 1796, 1597, ...,    0,    0,    0],\n",
       "       [ 677, 1196,  222, ...,    0,    0,    0],\n",
       "       [1796, 1597, 1984, ...,    0,    0,    0]])"
      ]
     },
     "execution_count": 36,
     "metadata": {},
     "output_type": "execute_result"
    }
   ],
   "source": [
    "X_test"
   ]
  },
  {
   "cell_type": "code",
   "execution_count": 37,
   "metadata": {},
   "outputs": [],
   "source": [
    "predictions = model.predict(X_test)"
   ]
  },
  {
   "cell_type": "code",
   "execution_count": 38,
   "metadata": {},
   "outputs": [],
   "source": [
    "from sklearn.metrics import classification_report,confusion_matrix"
   ]
  },
  {
   "cell_type": "code",
   "execution_count": 39,
   "metadata": {},
   "outputs": [
    {
     "name": "stdout",
     "output_type": "stream",
     "text": [
      "[[ 744  167]\n",
      " [ 114 1051]]\n"
     ]
    }
   ],
   "source": [
    "print(confusion_matrix(y_test,predictions))"
   ]
  },
  {
   "cell_type": "code",
   "execution_count": 40,
   "metadata": {},
   "outputs": [
    {
     "name": "stdout",
     "output_type": "stream",
     "text": [
      "              precision    recall  f1-score   support\n",
      "\n",
      "           0       0.87      0.82      0.84       911\n",
      "           1       0.86      0.90      0.88      1165\n",
      "\n",
      "    accuracy                           0.86      2076\n",
      "   macro avg       0.87      0.86      0.86      2076\n",
      "weighted avg       0.86      0.86      0.86      2076\n",
      "\n"
     ]
    }
   ],
   "source": [
    "print(classification_report(y_test,predictions))"
   ]
  },
  {
   "cell_type": "code",
   "execution_count": null,
   "metadata": {},
   "outputs": [],
   "source": []
  }
 ],
 "metadata": {
  "kernelspec": {
   "display_name": "Python 3",
   "language": "python",
   "name": "python3"
  },
  "language_info": {
   "codemirror_mode": {
    "name": "ipython",
    "version": 3
   },
   "file_extension": ".py",
   "mimetype": "text/x-python",
   "name": "python",
   "nbconvert_exporter": "python",
   "pygments_lexer": "ipython3",
   "version": "3.7.6"
  }
 },
 "nbformat": 4,
 "nbformat_minor": 4
}
